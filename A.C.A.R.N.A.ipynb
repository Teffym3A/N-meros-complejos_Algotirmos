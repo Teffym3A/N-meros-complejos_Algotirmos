{
 "cells": [
  {
   "cell_type": "markdown",
   "metadata": {},
   "source": [
    "# Algortimos Computacionales\n"
   ]
  },
  {
   "cell_type": "code",
   "execution_count": null,
   "metadata": {},
   "outputs": [],
   "source": [
    "  def mixedMethod(x, a, c, mod):\n",
    " \n",
    "    periodo = 0\n",
    "    bandera = 0\n",
    " \n",
    "    while(bandera != x):\n",
    "        if (periodo == 0):\n",
    "            bandera = x\n",
    "        x = (a * x + c) % mod\n",
    "        print(x)\n",
    "        periodo = periodo + 1\n",
    " \n",
    "    if(periodo == mod):\n",
    "        print(\"El periodo es completo: \", periodo)\n",
    "    else:\n",
    "        print(\"El periodo es incompleto:\", periodo)\n",
    " \n",
    "\n",
    "   def main():\n",
    "    x = int(raw_input(\"Introduce el valor de la semilla: \"))\n",
    "    a = int(raw_input(\"Introduce el valor del multiplicador: \"))\n",
    "    c = int(raw_input(\"Introduce el valor de la constante aditiva: \"))\n",
    "    m = int(raw_input(\"Introduce el valor del modulo: \"))\n",
    "    mixedMethod(x,a,c,m)\n",
    " \n",
    "    if __name__ == \"__main__\":\n",
    "    main()"
   ]
  }
 ],
 "metadata": {
  "kernelspec": {
   "display_name": "Python 3",
   "language": "python",
   "name": "python3"
  },
  "language_info": {
   "codemirror_mode": {
    "name": "ipython",
    "version": 3
   },
   "file_extension": ".py",
   "mimetype": "text/x-python",
   "name": "python",
   "nbconvert_exporter": "python",
   "pygments_lexer": "ipython3",
   "version": "3.7.6"
  }
 },
 "nbformat": 4,
 "nbformat_minor": 4
}
